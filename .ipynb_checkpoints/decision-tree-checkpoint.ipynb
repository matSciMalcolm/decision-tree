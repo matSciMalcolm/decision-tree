{
 "cells": [
  {
   "cell_type": "markdown",
   "metadata": {},
   "source": [
    "# Decision Tree Example\n",
    "This notebook follows Jason Brownlee's [tutorial](https://machinelearningmastery.com/implement-decision-tree-algorithm-scratch-python/) on implementation of a decision tree."
   ]
  },
  {
   "cell_type": "code",
   "execution_count": 3,
   "metadata": {},
   "outputs": [],
   "source": [
    "#### Standard Libraries ####\n",
    "import typing\n",
    "\n",
    "#### Third party libraries ####\n",
    "import pandas as pd"
   ]
  },
  {
   "cell_type": "code",
   "execution_count": 4,
   "metadata": {},
   "outputs": [],
   "source": [
    "#### Import the dataset ####\n",
    "url = 'http://archive.ics.uci.edu/ml/machine-learning-databases/00267/data_banknote_authentication.txt'\n",
    "column_labels = ['variance','skew','curtosis','entropy','class']\n",
    "df = pd.read_csv(url,names=column_labels)"
   ]
  },
  {
   "cell_type": "code",
   "execution_count": 5,
   "metadata": {},
   "outputs": [
    {
     "data": {
      "text/html": [
       "<div>\n",
       "<style scoped>\n",
       "    .dataframe tbody tr th:only-of-type {\n",
       "        vertical-align: middle;\n",
       "    }\n",
       "\n",
       "    .dataframe tbody tr th {\n",
       "        vertical-align: top;\n",
       "    }\n",
       "\n",
       "    .dataframe thead th {\n",
       "        text-align: right;\n",
       "    }\n",
       "</style>\n",
       "<table border=\"1\" class=\"dataframe\">\n",
       "  <thead>\n",
       "    <tr style=\"text-align: right;\">\n",
       "      <th></th>\n",
       "      <th>variance</th>\n",
       "      <th>skew</th>\n",
       "      <th>curtosis</th>\n",
       "      <th>entropy</th>\n",
       "      <th>class</th>\n",
       "    </tr>\n",
       "  </thead>\n",
       "  <tbody>\n",
       "    <tr>\n",
       "      <th>0</th>\n",
       "      <td>3.62160</td>\n",
       "      <td>8.6661</td>\n",
       "      <td>-2.8073</td>\n",
       "      <td>-0.44699</td>\n",
       "      <td>0</td>\n",
       "    </tr>\n",
       "    <tr>\n",
       "      <th>1</th>\n",
       "      <td>4.54590</td>\n",
       "      <td>8.1674</td>\n",
       "      <td>-2.4586</td>\n",
       "      <td>-1.46210</td>\n",
       "      <td>0</td>\n",
       "    </tr>\n",
       "    <tr>\n",
       "      <th>2</th>\n",
       "      <td>3.86600</td>\n",
       "      <td>-2.6383</td>\n",
       "      <td>1.9242</td>\n",
       "      <td>0.10645</td>\n",
       "      <td>0</td>\n",
       "    </tr>\n",
       "    <tr>\n",
       "      <th>3</th>\n",
       "      <td>3.45660</td>\n",
       "      <td>9.5228</td>\n",
       "      <td>-4.0112</td>\n",
       "      <td>-3.59440</td>\n",
       "      <td>0</td>\n",
       "    </tr>\n",
       "    <tr>\n",
       "      <th>4</th>\n",
       "      <td>0.32924</td>\n",
       "      <td>-4.4552</td>\n",
       "      <td>4.5718</td>\n",
       "      <td>-0.98880</td>\n",
       "      <td>0</td>\n",
       "    </tr>\n",
       "  </tbody>\n",
       "</table>\n",
       "</div>"
      ],
      "text/plain": [
       "   variance    skew  curtosis  entropy  class\n",
       "0   3.62160  8.6661   -2.8073 -0.44699      0\n",
       "1   4.54590  8.1674   -2.4586 -1.46210      0\n",
       "2   3.86600 -2.6383    1.9242  0.10645      0\n",
       "3   3.45660  9.5228   -4.0112 -3.59440      0\n",
       "4   0.32924 -4.4552    4.5718 -0.98880      0"
      ]
     },
     "execution_count": 5,
     "metadata": {},
     "output_type": "execute_result"
    }
   ],
   "source": [
    "df.head()"
   ]
  },
  {
   "cell_type": "markdown",
   "metadata": {},
   "source": [
    "# Evaluating splits with Gini index\n",
    "The gini index strives to split classes into groups. For instance a perfect division of our data into two pools where one pool is completely composed of data labeled as class A and the other pool with data labeled as class B results in a Gini score 0f 0. At the other end of the spectrum, two pools each with 50% class A and 50% class B results in a Gini score of 0.5.\n",
    "\n",
    "Let's consider a toy example where we have two groups of data. Each group has two data points (rows), and each data point is labeled with a class. In this example we are splitting children who attended a summer camp based on gender so that we can assign them to dormatories. In other words, campers are *classified* based on there gender. We are adopting the notation that 1 represents a yes for the question, *is male*. Each dorm represents a group.\n",
    "\n",
    "https://www.sielc.com/Application-HPLC-Separation-of-Isomers-of-Aminobenzoic-Acid.html\n",
    "\n",
    "<center>Dorm 1</center>\n",
    "\n",
    "| Camper | Male? |\n",
    "|--------|-------|\n",
    "| Tim    | 1     |\n",
    "| Mike   | 1     |\n",
    "\n",
    "<center>Dorm 2</center>\n",
    "\n",
    "| Camper | Male? |\n",
    "|--------|-------|\n",
    "| Julie  | 0     |\n",
    "| Sarah  | 0     |\n",
    "\n",
    "In order to calculate the Geni index for each group of products, we need to caclculate the proportion of each class of molecule in each group."
   ]
  },
  {
   "cell_type": "code",
   "execution_count": 17,
   "metadata": {},
   "outputs": [],
   "source": [
    "group = pd.DataFrame([['Tim','Male'],['Mike','Male'],['Eva','Female']],columns=['Camper','Sex'])"
   ]
  },
  {
   "cell_type": "code",
   "execution_count": 32,
   "metadata": {},
   "outputs": [],
   "source": [
    "test_df = pd.DataFrame([['acetone','ketone',1],\n",
    "                        ['acetaldehyde','aldehyde',1],\n",
    "                        ['formaldeyde','aldehyde',2],\n",
    "                        ['vanillin','aldehyde',1],\n",
    "                        ['cyclohexanone','ketone',2],\n",
    "                        ['ethyl methyl ketone','ketone',2]],\n",
    "                        columns=['name','class','group'])\n"
   ]
  },
  {
   "cell_type": "code",
   "execution_count": 33,
   "metadata": {},
   "outputs": [
    {
     "data": {
      "text/html": [
       "<div>\n",
       "<style scoped>\n",
       "    .dataframe tbody tr th:only-of-type {\n",
       "        vertical-align: middle;\n",
       "    }\n",
       "\n",
       "    .dataframe tbody tr th {\n",
       "        vertical-align: top;\n",
       "    }\n",
       "\n",
       "    .dataframe thead th {\n",
       "        text-align: right;\n",
       "    }\n",
       "</style>\n",
       "<table border=\"1\" class=\"dataframe\">\n",
       "  <thead>\n",
       "    <tr style=\"text-align: right;\">\n",
       "      <th></th>\n",
       "      <th>name</th>\n",
       "      <th>class</th>\n",
       "      <th>group</th>\n",
       "    </tr>\n",
       "  </thead>\n",
       "  <tbody>\n",
       "    <tr>\n",
       "      <th>0</th>\n",
       "      <td>acetone</td>\n",
       "      <td>ketone</td>\n",
       "      <td>1</td>\n",
       "    </tr>\n",
       "    <tr>\n",
       "      <th>1</th>\n",
       "      <td>acetaldehyde</td>\n",
       "      <td>aldehyde</td>\n",
       "      <td>1</td>\n",
       "    </tr>\n",
       "    <tr>\n",
       "      <th>2</th>\n",
       "      <td>formaldeyde</td>\n",
       "      <td>aldehyde</td>\n",
       "      <td>2</td>\n",
       "    </tr>\n",
       "    <tr>\n",
       "      <th>3</th>\n",
       "      <td>vanillin</td>\n",
       "      <td>aldehyde</td>\n",
       "      <td>1</td>\n",
       "    </tr>\n",
       "    <tr>\n",
       "      <th>4</th>\n",
       "      <td>cyclohexanone</td>\n",
       "      <td>ketone</td>\n",
       "      <td>2</td>\n",
       "    </tr>\n",
       "    <tr>\n",
       "      <th>5</th>\n",
       "      <td>ethyl methyl ketone</td>\n",
       "      <td>ketone</td>\n",
       "      <td>2</td>\n",
       "    </tr>\n",
       "  </tbody>\n",
       "</table>\n",
       "</div>"
      ],
      "text/plain": [
       "                  name     class  group\n",
       "0              acetone    ketone      1\n",
       "1         acetaldehyde  aldehyde      1\n",
       "2          formaldeyde  aldehyde      2\n",
       "3             vanillin  aldehyde      1\n",
       "4        cyclohexanone    ketone      2\n",
       "5  ethyl methyl ketone    ketone      2"
      ]
     },
     "execution_count": 33,
     "metadata": {},
     "output_type": "execute_result"
    }
   ],
   "source": [
    "test_df"
   ]
  },
  {
   "cell_type": "code",
   "execution_count": 48,
   "metadata": {},
   "outputs": [],
   "source": [
    "groups = test_df.groupby('group')\n"
   ]
  },
  {
   "cell_type": "code",
   "execution_count": 49,
   "metadata": {},
   "outputs": [
    {
     "name": "stdout",
     "output_type": "stream",
     "text": [
      "['ketone' 'aldehyde']\n",
      "2\n",
      "           name     class  group\n",
      "0       acetone    ketone      1\n",
      "1  acetaldehyde  aldehyde      1\n",
      "3      vanillin  aldehyde      1 \n",
      "\n",
      "\n",
      "['aldehyde' 'ketone']\n",
      "1\n",
      "                  name     class  group\n",
      "2          formaldeyde  aldehyde      2\n",
      "4        cyclohexanone    ketone      2\n",
      "5  ethyl methyl ketone    ketone      2 \n",
      "\n",
      "\n"
     ]
    }
   ],
   "source": [
    "for key,item in groups:\n",
    "    group = groups.get_group(key)\n",
    "    print(group['class'].unique())\n",
    "    print(group[group['class'] == 'aldehyde'].count().values[0])\n",
    "    print(group, \"\\n\\n\")\n",
    "    "
   ]
  },
  {
   "cell_type": "code",
   "execution_count": null,
   "metadata": {},
   "outputs": [],
   "source": []
  },
  {
   "cell_type": "code",
   "execution_count": 50,
   "metadata": {},
   "outputs": [
    {
     "data": {
      "text/html": [
       "<div>\n",
       "<style scoped>\n",
       "    .dataframe tbody tr th:only-of-type {\n",
       "        vertical-align: middle;\n",
       "    }\n",
       "\n",
       "    .dataframe tbody tr th {\n",
       "        vertical-align: top;\n",
       "    }\n",
       "\n",
       "    .dataframe thead th {\n",
       "        text-align: right;\n",
       "    }\n",
       "</style>\n",
       "<table border=\"1\" class=\"dataframe\">\n",
       "  <thead>\n",
       "    <tr style=\"text-align: right;\">\n",
       "      <th></th>\n",
       "      <th>group</th>\n",
       "      <th>class</th>\n",
       "      <th>proportion</th>\n",
       "    </tr>\n",
       "  </thead>\n",
       "  <tbody>\n",
       "    <tr>\n",
       "      <th>0</th>\n",
       "      <td>1</td>\n",
       "      <td>ketone</td>\n",
       "      <td>0.333333</td>\n",
       "    </tr>\n",
       "    <tr>\n",
       "      <th>1</th>\n",
       "      <td>1</td>\n",
       "      <td>aldehyde</td>\n",
       "      <td>0.666667</td>\n",
       "    </tr>\n",
       "    <tr>\n",
       "      <th>2</th>\n",
       "      <td>2</td>\n",
       "      <td>aldehyde</td>\n",
       "      <td>0.333333</td>\n",
       "    </tr>\n",
       "    <tr>\n",
       "      <th>3</th>\n",
       "      <td>2</td>\n",
       "      <td>ketone</td>\n",
       "      <td>0.666667</td>\n",
       "    </tr>\n",
       "  </tbody>\n",
       "</table>\n",
       "</div>"
      ],
      "text/plain": [
       "   group     class  proportion\n",
       "0      1    ketone    0.333333\n",
       "1      1  aldehyde    0.666667\n",
       "2      2  aldehyde    0.333333\n",
       "3      2    ketone    0.666667"
      ]
     },
     "execution_count": 50,
     "metadata": {},
     "output_type": "execute_result"
    }
   ],
   "source": [
    "data = []\n",
    "\n",
    "for key,item in groups:\n",
    "    \n",
    "    group = groups.get_group(key)\n",
    "    grp = group['group'].unique()[0]\n",
    "    total = len(group.index)\n",
    "    \n",
    "    for cls in group['class'].unique():\n",
    "        numerator = group[group['class'] == cls].count().values[0]\n",
    "        prop = float(numerator/total)\n",
    "        data.append([grp,cls,prop])\n",
    "    \n",
    "columns = ['group','class','proportion']\n",
    "pd.DataFrame(data=data, columns=columns)"
   ]
  },
  {
   "cell_type": "code",
   "execution_count": null,
   "metadata": {},
   "outputs": [],
   "source": [
    "# index, class, group,"
   ]
  },
  {
   "cell_type": "code",
   "execution_count": 54,
   "metadata": {},
   "outputs": [],
   "source": [
    "def gini_index(data: pd.DataFrame) -> float:\n",
    "    \"\"\"\n",
    "    A function for calculating the Gini index of a\n",
    "    split.\n",
    "    \n",
    "    ARGS:\n",
    "        groups () |\n",
    "        classes () |\n",
    "    \n",
    "    RETURNS:\n",
    "        gini_index (float) | The score of the split.\n",
    "    \"\"\"\n",
    "    num_samples = len(data.index)\n",
    "    \n",
    "    # calculate proportion of each class in a group\n",
    "    def _proportion(data: pd.DataFrame) -> pd.DataFrame:\n",
    "        \n",
    "        groups = data.groupby('group')\n",
    "        data = []\n",
    "        columns = ['group','class','proportion']\n",
    "\n",
    "        for key,item in groups:\n",
    "    \n",
    "            group = groups.get_group(key)\n",
    "            grp = group['group'].unique()[0]\n",
    "            total = len(group.index)\n",
    "    \n",
    "            for cls in group['class'].unique():\n",
    "                numerator = group[group['class'] == cls].count().values[0]\n",
    "                prop = float(numerator/total)\n",
    "                data.append([grp,cls,prop])\n",
    "    \n",
    "        return pd.DataFrame(data=data, columns=columns)\n",
    "\n",
    "    # calc_group_gini\n",
    "    def _group_gini(data: pd.DataFrame) -> pd.DataFrame:\n",
    "        \n",
    "        data = []\n",
    "        columns = ['group','Gini index']\n",
    "        groups = data.groupby('group')\n",
    "        \n",
    "        for key,item in groups:\n",
    "            group = groups.get_group(key)\n",
    "            grp = group['group'].values[0]\n",
    "            group_size = len(group.index)\n",
    "            squared_prop = group['proportion'].apply(lambda x: x^2)\n",
    "            group_gini = (1 - squared_prop.sum())* (group_size/num_samples)\n",
    "            data.append([grp,group_gini])\n",
    "            \n",
    "        return pd.DataFrame(data=data, columns=columns)\n",
    "    \n",
    "    index = _group_gini(_proportion(data)).sum()\n",
    "    \n",
    "    return index"
   ]
  },
  {
   "cell_type": "code",
   "execution_count": 55,
   "metadata": {},
   "outputs": [
    {
     "ename": "AttributeError",
     "evalue": "'list' object has no attribute 'groupby'",
     "output_type": "error",
     "traceback": [
      "\u001b[0;31m---------------------------------------------------------------------------\u001b[0m",
      "\u001b[0;31mAttributeError\u001b[0m                            Traceback (most recent call last)",
      "\u001b[0;32m<ipython-input-55-9a320412e8a4>\u001b[0m in \u001b[0;36m<module>\u001b[0;34m\u001b[0m\n\u001b[0;32m----> 1\u001b[0;31m \u001b[0mprint\u001b[0m\u001b[0;34m(\u001b[0m\u001b[0mgini_index\u001b[0m\u001b[0;34m(\u001b[0m\u001b[0mtest_df\u001b[0m\u001b[0;34m)\u001b[0m\u001b[0;34m)\u001b[0m\u001b[0;34m\u001b[0m\u001b[0;34m\u001b[0m\u001b[0m\n\u001b[0m",
      "\u001b[0;32m<ipython-input-54-f3e3ceee70e0>\u001b[0m in \u001b[0;36mgini_index\u001b[0;34m(data)\u001b[0m\n\u001b[1;32m     50\u001b[0m         \u001b[0;32mreturn\u001b[0m \u001b[0mpd\u001b[0m\u001b[0;34m.\u001b[0m\u001b[0mDataFrame\u001b[0m\u001b[0;34m(\u001b[0m\u001b[0mdata\u001b[0m\u001b[0;34m=\u001b[0m\u001b[0mdata\u001b[0m\u001b[0;34m,\u001b[0m \u001b[0mcolumns\u001b[0m\u001b[0;34m=\u001b[0m\u001b[0mcolumns\u001b[0m\u001b[0;34m)\u001b[0m\u001b[0;34m\u001b[0m\u001b[0;34m\u001b[0m\u001b[0m\n\u001b[1;32m     51\u001b[0m \u001b[0;34m\u001b[0m\u001b[0m\n\u001b[0;32m---> 52\u001b[0;31m     \u001b[0mindex\u001b[0m \u001b[0;34m=\u001b[0m \u001b[0m_group_gini\u001b[0m\u001b[0;34m(\u001b[0m\u001b[0m_proportion\u001b[0m\u001b[0;34m(\u001b[0m\u001b[0mdata\u001b[0m\u001b[0;34m)\u001b[0m\u001b[0;34m)\u001b[0m\u001b[0;34m.\u001b[0m\u001b[0msum\u001b[0m\u001b[0;34m(\u001b[0m\u001b[0;34m)\u001b[0m\u001b[0;34m\u001b[0m\u001b[0;34m\u001b[0m\u001b[0m\n\u001b[0m\u001b[1;32m     53\u001b[0m \u001b[0;34m\u001b[0m\u001b[0m\n\u001b[1;32m     54\u001b[0m     \u001b[0;32mreturn\u001b[0m \u001b[0mindex\u001b[0m\u001b[0;34m\u001b[0m\u001b[0;34m\u001b[0m\u001b[0m\n",
      "\u001b[0;32m<ipython-input-54-f3e3ceee70e0>\u001b[0m in \u001b[0;36m_group_gini\u001b[0;34m(data)\u001b[0m\n\u001b[1;32m     38\u001b[0m         \u001b[0mdata\u001b[0m \u001b[0;34m=\u001b[0m \u001b[0;34m[\u001b[0m\u001b[0;34m]\u001b[0m\u001b[0;34m\u001b[0m\u001b[0;34m\u001b[0m\u001b[0m\n\u001b[1;32m     39\u001b[0m         \u001b[0mcolumns\u001b[0m \u001b[0;34m=\u001b[0m \u001b[0;34m[\u001b[0m\u001b[0;34m'group'\u001b[0m\u001b[0;34m,\u001b[0m\u001b[0;34m'Gini index'\u001b[0m\u001b[0;34m]\u001b[0m\u001b[0;34m\u001b[0m\u001b[0;34m\u001b[0m\u001b[0m\n\u001b[0;32m---> 40\u001b[0;31m         \u001b[0mgroups\u001b[0m \u001b[0;34m=\u001b[0m \u001b[0mdata\u001b[0m\u001b[0;34m.\u001b[0m\u001b[0mgroupby\u001b[0m\u001b[0;34m(\u001b[0m\u001b[0;34m'group'\u001b[0m\u001b[0;34m)\u001b[0m\u001b[0;34m\u001b[0m\u001b[0;34m\u001b[0m\u001b[0m\n\u001b[0m\u001b[1;32m     41\u001b[0m \u001b[0;34m\u001b[0m\u001b[0m\n\u001b[1;32m     42\u001b[0m         \u001b[0;32mfor\u001b[0m \u001b[0mkey\u001b[0m\u001b[0;34m,\u001b[0m\u001b[0mitem\u001b[0m \u001b[0;32min\u001b[0m \u001b[0mgroups\u001b[0m\u001b[0;34m:\u001b[0m\u001b[0;34m\u001b[0m\u001b[0;34m\u001b[0m\u001b[0m\n",
      "\u001b[0;31mAttributeError\u001b[0m: 'list' object has no attribute 'groupby'"
     ]
    }
   ],
   "source": [
    "print(gini_index(test_df))"
   ]
  },
  {
   "cell_type": "code",
   "execution_count": null,
   "metadata": {},
   "outputs": [],
   "source": []
  }
 ],
 "metadata": {
  "kernelspec": {
   "display_name": "Python 3",
   "language": "python",
   "name": "python3"
  },
  "language_info": {
   "codemirror_mode": {
    "name": "ipython",
    "version": 3
   },
   "file_extension": ".py",
   "mimetype": "text/x-python",
   "name": "python",
   "nbconvert_exporter": "python",
   "pygments_lexer": "ipython3",
   "version": "3.6.8"
  }
 },
 "nbformat": 4,
 "nbformat_minor": 2
}
